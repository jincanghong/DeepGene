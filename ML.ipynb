{
 "cells": [
  {
   "cell_type": "code",
   "execution_count": 2,
   "metadata": {},
   "outputs": [],
   "source": [
    "import numpy as np\n",
    "import matplotlib.pyplot as plt\n",
    "import pandas as pd\n",
    "import os\n",
    "\n",
    "import json\n",
    "from sklearn.metrics import classification_report\n",
    "from sklearn.model_selection import train_test_split, GridSearchCV, KFold\n",
    "from sklearn.linear_model import LogisticRegression\n",
    "from sklearn.ensemble import RandomForestClassifier\n",
    "from sklearn.svm import SVC\n",
    "from sklearn.preprocessing import scale\n",
    "from imblearn.over_sampling import BorderlineSMOTE\n",
    "from imblearn.under_sampling import EditedNearestNeighbours\n",
    "from sklearn.metrics import matthews_corrcoef, roc_auc_score, average_precision_score\n",
    "\n",
    "from sklearn.metrics import precision_score, recall_score, f1_score,accuracy_score,confusion_matrix"
   ]
  },
  {
   "cell_type": "code",
   "execution_count": 3,
   "metadata": {},
   "outputs": [],
   "source": [
    "def res_to_csv(res, bacteria, mode, encoding, method, drug_name):\n",
    "    tp = []\n",
    "    for k in res.keys():\n",
    "        if k != 'accuracy':\n",
    "            tp.append(list(res[k].values()))\n",
    "        else:\n",
    "            tp.append([np.nan, np.nan, res[k], res['macro avg']['support']])\n",
    "    tp = pd.DataFrame(tp, index=res.keys(), columns=res[\"S\"].keys())\n",
    "    tp.to_csv(f\"results/{bacteria}/{encoding}/{bacteria}_{mode}_{encoding}_{method}_{drug_name}.csv\", index=True, encoding='utf-8')\n"
   ]
  },
  {
   "cell_type": "code",
   "execution_count": 4,
   "metadata": {},
   "outputs": [],
   "source": [
    "def MLPredModel(X, Y, bacteria, mode, encoding, method, drug_name, Normalization=True,seed=7, save_res='easy'):\n",
    "\n",
    "    MODEL = {\n",
    "        'LR': LogisticRegression(),\n",
    "        'RF': RandomForestClassifier(),\n",
    "        'SVM': SVC()\n",
    "    }\n",
    "    if encoding == 'FCGR':\n",
    "        X = X.reshape(X.shape[0], -1)\n",
    "    if Normalization:\n",
    "        X = scale(X)\n",
    "    x_train, x_test, y_train, y_test = train_test_split(X, Y, test_size=0.2, random_state=seed)\n",
    "    sample_solver= BorderlineSMOTE()\n",
    "    sample_solver=EditedNearestNeighbours()\n",
    "    x_train,y_train=sample_solver.fit_resample(x_train,y_train)\n",
    "    model = MODEL[method]\n",
    "\n",
    "    param_grid = {\"LR\":{\n",
    "                      'C': [0.5, 1, 2],\n",
    "                      'max_iter':[5000]\n",
    "                  },\n",
    "                  \"RF\":{\n",
    "                      'n_estimators': [50, 100],\n",
    "                      'max_depth': [None, 10, 20],\n",
    "                      'min_samples_split': [2, 5, 10],\n",
    "                      'min_samples_leaf': [1, 2, 4],\n",
    "                      'bootstrap': [True, False]\n",
    "                  },\n",
    "                  \"SVM\":{\n",
    "                      'C': [ 1, 3, 5],\n",
    "                      'kernel': ['linear', 'sigmoid'],\n",
    "                      'gamma': ['scale', 'auto']\n",
    "                  }\n",
    "    }\n",
    "    kf = KFold(n_splits=10, shuffle=True, random_state=42)\n",
    "\n",
    "    grid_search = GridSearchCV(model, param_grid[method], cv=kf, scoring='accuracy')\n",
    "    print(f\"{bacteria},{drug_name},Training {method} model ...\")\n",
    "#     print(len(x_train))\n",
    "\n",
    "    grid_search.fit(x_train, y_train)\n",
    "    # plot_feature_importance(model, bacteria, mode, encoding, method, drug_name, POS)\n",
    "    best_params = grid_search.best_params_\n",
    "    best_model = grid_search.best_estimator_\n",
    "\n",
    "    preds = best_model.predict(x_test)\n",
    "    cm = confusion_matrix(y_test, preds)\n",
    "\n",
    "    MCC = matthews_corrcoef(y_test, preds)\n",
    "    AUROC = roc_auc_score(y_test, preds)\n",
    "    AUPRC = average_precision_score(y_test, preds)\n",
    "    precision = precision_score(y_test, preds, average='macro')\n",
    "    recall = recall_score(y_test, preds, average='macro')\n",
    "    f1 = f1_score(y_test, preds, average='macro')\n",
    "    acc = accuracy_score(y_test, preds)\n",
    "    print(f\"{bacteria},{drug_name},Training {method} model success\")\n",
    "\n",
    "    return [MCC, AUROC, AUPRC,precision, recall, f1, acc],cm"
   ]
  },
  {
   "cell_type": "code",
   "execution_count": 5,
   "metadata": {},
   "outputs": [],
   "source": [
    "def plot_feature_importance(model, bacteria, mode, encoding, method, drug_name, POS, n=10):\n",
    "    if method == 'RF':\n",
    "        index = np.argsort(-model.feature_importances_)[:n].tolist()\n",
    "        value = model.feature_importances_[index]\n",
    "    if method == 'LR':\n",
    "        index=np.argsort(-abs(model.coef_[0]))[:n].tolist()\n",
    "        value = model.coef_[0][index]\n",
    "        \n",
    "    print(f\"Most {n} important position: \\n{POS[index]}\")\n",
    "    fig, ax = plt.subplots()\n",
    "    ax.barh(range(n), value, align='center', color='c')\n",
    "    ax.set_yticks(range(n))\n",
    "    ax.set_yticklabels([str(i) for i in POS[index]])\n",
    "    ax.invert_yaxis()\n",
    "    plt.savefig(f'results/{bacteria}/{encoding}/{mode}_{method}_{drug_name}_TOP{n}_feature_importance.png')\n",
    "    plt.show()\n",
    "    plt.close()\n"
   ]
  },
  {
   "cell_type": "code",
   "execution_count": 6,
   "metadata": {},
   "outputs": [],
   "source": [
    "Methods = ['LR','RF','SVM']\n",
    "# Methods = ['RF']\n",
    "# Encodings = ['FCGR',]\n",
    "Encoding = 'Label_Encoding'\n",
    "Drug_list = ['AMP', 'AMX', 'AMC', 'TZP', 'CXM', 'CET', 'TBM', 'TMP', 'CIP', 'CTX', 'CTZ', 'GEN']\n",
    "# Drug_list = ['AMX']\n",
    "Bacteria = 'E.coli'\n",
    "Mode = 'ToN'\n",
    "save_res='easy'\n",
    "seed = [7,15,27,34,54,65,79,89,97,105]\n"
   ]
  },
  {
   "cell_type": "code",
   "execution_count": 7,
   "metadata": {},
   "outputs": [],
   "source": [
    "for m in Methods:\n",
    "    # if m != \"LR\":\n",
    "    #     continue\n",
    "    res_all_drug=[]\n",
    "    for d in Drug_list:\n",
    "        res = []\n",
    "        data = np.load(f'data/{Bacteria}/preprocessed/{Encoding}/{Bacteria}_{Mode}_{Encoding}_{d}.npz', allow_pickle=True)\n",
    "        X, Y, POS = data['X'].astype('float32'), data['Y'].astype('int32'), data['POS'].astype('int32')\n",
    "        for sd in seed:\n",
    "            r,cm = MLPredModel(X, Y, bacteria=Bacteria, mode=Mode,encoding=Encoding, method=m, drug_name=d,Normalization=False,seed=sd)\n",
    "            res.append(r)\n",
    "            if not os.path.exists(f'result1220/{Bacteria}/{Encoding}/'):\n",
    "                os.makedirs(f'result1220/{Bacteria}/{Encoding}/')\n",
    "            df = pd.DataFrame(cm, index=['S', 'R'], columns=['S', 'R'])\n",
    "            df.to_csv(f'result1220/{Bacteria}/{Encoding}/{Mode}_{m}_{d}_seed{sd}_cm.csv')\n",
    "        res_mean = np.mean(np.array(res), axis=0)\n",
    "        if save_res=='easy':\n",
    "            res_mean_df = pd.DataFrame([res_mean],columns=['MCC','AUROC','AUPRC','Precision', 'Recall', 'F1-score','acc'])\n",
    "\n",
    "            res_mean_df.to_csv(f'result1220/{Bacteria}/{Encoding}/{Mode}_{m}_{d}_result.csv')\n",
    "        res_all_drug.append(res_mean.tolist())\n",
    "    res_all_drug = pd.DataFrame(res_all_drug,columns=['MCC','AUROC','AUPRC','Precision', 'Recall', 'F1-score','accuracy'],index=Drug_list)\n",
    "\n",
    "    res_all_drug.to_csv(f'result1220/{Bacteria}/{Encoding}_all_drug_{m}_{d}_result.csv')\n"
   ]
  },
  {
   "cell_type": "code",
   "execution_count": 9,
   "metadata": {},
   "outputs": [],
   "source": [
    "def get_POSweight(drug_name,sd):\n",
    "    np.random.seed(sd)#CTX\n",
    "    # np.random.seed(0)#CTZ\n",
    "    # np.random.seed(7)\n",
    "\n",
    "    data = np.load(f'data/{Bacteria}/preprocessed/{Encoding}/{Bacteria}_{Mode}_{Encoding}_{drug_name}.npz', allow_pickle=True)\n",
    "    X, Y, POS = data['X'].astype('float32'), data['Y'].astype('int32'), data['POS'].astype('int32')\n",
    "    shuffe_idx=list(range(len(X)))\n",
    "    np.random.shuffle(shuffe_idx)\n",
    "    X1=X[shuffe_idx]\n",
    "    Y1=Y[shuffe_idx]\n",
    "    model=RandomForestClassifier(n_estimators=200, random_state=0)\n",
    "    model.fit(X1,Y1)\n",
    "    index = np.argsort(-model.feature_importances_).tolist()\n",
    "    print(f\"TOP 10 POS: {POS[index][:10]}\")\n",
    "    with open(f'results/E.coli/Label_Encoding/{drug_name}_POS_weight.json', 'w', encoding='utf-8') as f:\n",
    "        json.dump(model.feature_importances_.tolist(), f, ensure_ascii=False, indent=4)\n",
    "    \n",
    "\n",
    "\n",
    "    x_train, x_test, y_train, y_test = train_test_split(X, Y, test_size=0.2, random_state=seed)\n",
    "    model=RandomForestClassifier(n_estimators=200, random_state=0)\n",
    "    model.fit(x_train,y_train)\n",
    "    preds = model.predict(x_test)\n",
    "    print(\"raw Result for {}\".format(drug_name))\n",
    "    print(classification_report(y_test, preds, target_names=['S', 'R']))\n",
    "    # res1=classification_report(y_test, preds, target_names=['S', 'R'],output_dict=True)\n",
    "    X2=X[:,index[:50]]\n",
    "    X2=(X2!=4)\n",
    "    x_train, x_test, y_train, y_test = train_test_split(X2, Y, test_size=0.2, random_state=seed)\n",
    "    model=RandomForestClassifier(n_estimators=200, random_state=0)\n",
    "    model.fit(x_train,y_train)\n",
    "    preds = model.predict(x_test)\n",
    "    print(\"POS Result for {}\".format(drug_name))\n",
    "    print(classification_report(y_test, preds, target_names=['S', 'R']))\n",
    "    # res2=classification_report(y_test, preds, target_names=['S', 'R'],output_dict=True)\n",
    "\n",
    "\n",
    "\n",
    "    # X2=X[:,index[:50]]\n",
    "    # X2=(X2!=4)\n",
    "    # x_train, x_test, y_train, y_test = train_test_split(X2, Y, test_size=0.2, random_state=seed)\n",
    "    # model=LogisticRegression(solver='lbfgs', max_iter=1500)\n",
    "    # model.fit(x_train,y_train)\n",
    "    # preds = model.predict(x_test)\n",
    "    # print(\"Result for {}\".format(drug_name))\n",
    "    # print(classification_report(y_test, preds, target_names=['S', 'R']))\n",
    "    # return res1['accuracy'],res2['accuracy']"
   ]
  },
  {
   "cell_type": "code",
   "execution_count": null,
   "metadata": {
    "pycharm": {
     "is_executing": true
    }
   },
   "outputs": [],
   "source": [
    "get_POSweight('AMX',1)"
   ]
  },
  {
   "cell_type": "code",
   "execution_count": null,
   "outputs": [],
   "source": [
    "# res={'CTX':[],'CTZ':[]}\n",
    "# for d in ['CTX','CTZ']:\n",
    "#     for sd in range(100):\n",
    "#         res1,res2=get_POSweight(d,sd)\n",
    "#         if res2>res1:\n",
    "#             print(d+f'  {res1}  {res2}')\n",
    "#             res[d].append({'seed':sd,'res1':res1,'res2':res2})\n",
    "#         if len(res[d])>3: break\n",
    "# print(res)"
   ],
   "metadata": {
    "collapsed": false
   }
  },
  {
   "cell_type": "code",
   "execution_count": 1,
   "outputs": [],
   "source": [
    "# for d in Drug_list:\n",
    "#     get_POSweight(d)"
   ],
   "metadata": {
    "collapsed": false
   }
  },
  {
   "cell_type": "markdown",
   "metadata": {},
   "source": [
    "## 验证关键位置的突变与耐药性的相关性"
   ]
  },
  {
   "cell_type": "code",
   "execution_count": 16,
   "metadata": {},
   "outputs": [],
   "source": [
    "# snp = pd.read_csv('/data/HWK/DeepGene/data/E.coli/preprocessed/FCGR/E.coli_ToN_FCGR_input.csv', sep=',', encoding='utf-8')\n",
    "# snp"
   ]
  },
  {
   "cell_type": "code",
   "execution_count": 17,
   "metadata": {},
   "outputs": [],
   "source": [
    "# snp=snp.set_index(data['POS'])\n",
    "# snp"
   ]
  },
  {
   "cell_type": "code",
   "execution_count": 18,
   "metadata": {},
   "outputs": [],
   "source": [
    "# plt.bar(range(len(data['Y'])),data['Y'])"
   ]
  },
  {
   "cell_type": "code",
   "execution_count": 19,
   "metadata": {},
   "outputs": [],
   "source": [
    "# imp_pos=POS[index][:10]\n",
    "# tmp=(snp.loc[imp_pos[0]]!='N')\n",
    "# plt.bar(range(len(tmp)),tmp)"
   ]
  },
  {
   "cell_type": "code",
   "execution_count": 20,
   "metadata": {},
   "outputs": [],
   "source": [
    "# np.corrcoef(data['Y'],tmp.to_numpy())"
   ]
  }
 ],
 "metadata": {
  "interpreter": {
   "hash": "e68b91a7cddda7c9cda833fde01eedee70fd1fa4caba7a6f9bef9528a6757009"
  },
  "kernelspec": {
   "display_name": "Python 3.6.13 64-bit ('tfhwk': conda)",
   "language": "python",
   "name": "python3"
  },
  "language_info": {
   "codemirror_mode": {
    "name": "ipython",
    "version": 3
   },
   "file_extension": ".py",
   "mimetype": "text/x-python",
   "name": "python",
   "nbconvert_exporter": "python",
   "pygments_lexer": "ipython3",
   "version": "3.6.10"
  },
  "orig_nbformat": 4
 },
 "nbformat": 4,
 "nbformat_minor": 2
}
